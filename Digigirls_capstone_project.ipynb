{
 "cells": [
  {
   "cell_type": "code",
   "execution_count": null,
   "metadata": {
    "vscode": {
     "languageId": "sql"
    }
   },
   "outputs": [],
   "source": [
    "#Question 1\n",
    "SELECT CONCAT(c.first_name, '', c.last_name) AS customer_name, a.address, COUNT(a.address)\n",
    "FROM address a\n",
    "JOIN customer c\n",
    "ON a.address_id = c.address_id\n",
    "GROUP BY a.address, c.first_name, c.last_name\n",
    "HAVING COUNT(a.address) > 1"
   ]
  },
  {
   "cell_type": "code",
   "execution_count": null,
   "metadata": {
    "vscode": {
     "languageId": "sql"
    }
   },
   "outputs": [],
   "source": []
  }
 ],
 "metadata": {
  "kernelspec": {
   "display_name": "base",
   "language": "python",
   "name": "python3"
  },
  "language_info": {
   "name": "python",
   "version": "3.9.18"
  }
 },
 "nbformat": 4,
 "nbformat_minor": 2
}

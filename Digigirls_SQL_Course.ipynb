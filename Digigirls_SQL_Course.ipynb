{
 "cells": [
  {
   "cell_type": "markdown",
   "id": "f6257643-ccc7-48da-acec-378aa815c455",
   "metadata": {},
   "source": [
    "Question 1. Are there customers that share the same address?. If yes, display the customer names."
   ]
  },
  {
   "cell_type": "code",
   "execution_count": null,
   "id": "ab48170b-3dda-4b5f-80b0-7944ad28c6fd",
   "metadata": {},
   "outputs": [],
   "source": [
    "SELECT CONCAT(c1.first_name, ' ', c1.last_name) AS customer_name, \n",
    "       c1.address_id AS Address\n",
    "FROM customer c1\n",
    "JOIN customer c2\n",
    "ON c1.customer_id != c2.customer_id\n",
    "AND c1.address_id = c2.address_id"
   ]
  },
  {
   "cell_type": "markdown",
   "id": "2295819d-6313-4e35-93ea-bdd3a8d9834f",
   "metadata": {},
   "source": [
    "Question 2. What is the name of the customer who made the highest total payments?"
   ]
  },
  {
   "cell_type": "code",
   "execution_count": null,
   "id": "9915a333-b38b-49f7-8f4c-815b025966a4",
   "metadata": {},
   "outputs": [],
   "source": [
    "SELECT CONCAT(c.first_name, ' ', c.last_name) AS customer_name, \n",
    "       SUM(p.amount) AS Payment,\n",
    "       c.customer_id AS Customer_id\n",
    "FROM customer c\n",
    "JOIN payment p\n",
    "USING (customer_id)\n",
    "GROUP BY c.customer_id, c.first_name, c.last_name \n",
    "ORDER BY SUM(p.amount) DESC\n",
    "LIMIT 1"
   ]
  },
  {
   "cell_type": "markdown",
   "id": "e04bb904-5adc-4457-b7b3-20ac73158aa2",
   "metadata": {},
   "source": [
    "Question 3. What movie(s) was rented the most?"
   ]
  },
  {
   "cell_type": "code",
   "execution_count": null,
   "id": "8ff92594-5146-4b1d-9284-61b612eb3a25",
   "metadata": {},
   "outputs": [],
   "source": [
    "SELECT f.title AS movie_title, f.rental_duration\n",
    "FROM film f\n",
    "WHERE f.rental_duration = 7\n",
    "ORDER BY f.rental_duration DESC"
   ]
  },
  {
   "cell_type": "markdown",
   "id": "e1f8bc07-c56e-42f7-977c-bdbff06fcb41",
   "metadata": {},
   "source": [
    "Question 4. Which movies have been rented so far?"
   ]
  },
  {
   "cell_type": "code",
   "execution_count": null,
   "id": "8978c053-a771-47d3-bb91-a607d60a4218",
   "metadata": {},
   "outputs": [],
   "source": [
    "SELECT r.rental_id, i.film_id\n",
    "FROM rental r\n",
    "JOIN inventory i\n",
    "USING (inventory_id)\n",
    "GROUP BY r.rental_id, i.film_id"
   ]
  },
  {
   "cell_type": "markdown",
   "id": "c7731c0f-9431-4e43-8654-dee8f899d4e3",
   "metadata": {},
   "source": [
    "Question 5. Which movies have not been rented so far?"
   ]
  },
  {
   "cell_type": "code",
   "execution_count": null,
   "id": "d0013026-c97b-402e-83c2-70c7c39e4251",
   "metadata": {},
   "outputs": [],
   "source": [
    "SELECT r.rental_id, i.film_id\n",
    "FROM rental r\n",
    "JOIN inventory i\n",
    "USING (inventory_id)\n",
    "GROUP BY r.rental_id, i.film_id\n",
    "HAVING r.rental_id IS NULL"
   ]
  },
  {
   "cell_type": "markdown",
   "id": "b3835942-89c9-4283-9572-069e6bd3e59c",
   "metadata": {},
   "source": [
    "//Question 6. Which customers have not rented any movies so far?//"
   ]
  },
  {
   "cell_type": "code",
   "execution_count": null,
   "id": "b137dd96-d637-4932-802f-153bb2306640",
   "metadata": {},
   "outputs": [],
   "source": [
    "SELECT COUNT(f.title) AS title_number, \n",
    "       r.customer_id, \n",
    "       f.title AS movie_title\n",
    "FROM film f\n",
    "JOIN inventory i\n",
    "ON i.film_id = f.film_id\n",
    "JOIN rental r\n",
    "ON r.inventory_id = i.inventory_id\n",
    "GROUP BY f.title, r.customer_id\n",
    "HAVING COUNT(f.title) IS NULL"
   ]
  },
  {
   "cell_type": "markdown",
   "id": "9d098821-dbe4-4cab-aee1-ea394b1caad1",
   "metadata": {},
   "source": [
    "Question 7. Display each movie and the number of times it got rented."
   ]
  },
  {
   "cell_type": "code",
   "execution_count": null,
   "id": "feb083f2-a8db-4483-af1b-a61baf4d8dee",
   "metadata": {},
   "outputs": [],
   "source": [
    "SELECT f.title AS movie_title, \n",
    "       COUNT(r.rental_id)\n",
    "FROM film F\n",
    "JOIN inventory i\n",
    "ON f.film_id = i.film_id\n",
    "JOIN rental r\n",
    "ON r.inventory_id = i.inventory_id\n",
    "GROUP BY f.title"
   ]
  },
  {
   "cell_type": "markdown",
   "id": "3dd9320a-1782-467f-832c-7c8899810107",
   "metadata": {},
   "source": [
    "Question 8. Show the first name and last name and the number of films each actor acted in."
   ]
  },
  {
   "cell_type": "code",
   "execution_count": null,
   "id": "a9f95ff7-ba82-4bbd-8897-accbd0653b2f",
   "metadata": {},
   "outputs": [],
   "source": [
    "SELECT CONCAT(a.first_name, ' ', a.last_name) AS Actor_name, \n",
    "       COUNT(d.film_id) AS No_of_films_acted\n",
    "FROM actor a\n",
    "JOIN film_actor d\n",
    "ON d.actor_id = a.actor_id\n",
    "JOIN film f\n",
    "ON f.film_id = d.film_id\n",
    "GROUP BY Actor_name"
   ]
  },
  {
   "cell_type": "markdown",
   "id": "47cae482-a691-45c7-9dad-c1374c15fda6",
   "metadata": {},
   "source": [
    "Question 9. Display the names of all the actors that acted in more than 20 movies."
   ]
  },
  {
   "cell_type": "code",
   "execution_count": null,
   "id": "d7d7ae83-a2af-4124-a105-451a9315ccd4",
   "metadata": {},
   "outputs": [],
   "source": [
    "SELECT CONCAT(a.first_name, ' ', a.last_name) AS Actor_name, \n",
    "       COUNT(d.film_id) AS No_of_films_acted\n",
    "FROM actor a\n",
    "JOIN film_actor d\n",
    "ON d.actor_id = a.actor_id\n",
    "JOIN film f\n",
    "ON f.film_id = d.film_id\n",
    "WHERE d.film_id > 20\n",
    "GROUP BY Actor_name"
   ]
  },
  {
   "cell_type": "markdown",
   "id": "877b3a71-6dd8-4a9c-9078-2648bcabc714",
   "metadata": {},
   "source": [
    "Question 10. For all movies rated \"PG\", how many times did it get rented?"
   ]
  },
  {
   "cell_type": "code",
   "execution_count": null,
   "id": "56c0f190-0947-45ed-81ec-1df1a9e96265",
   "metadata": {},
   "outputs": [],
   "source": [
    "SELECT f.title AS movie_title, \n",
    "       COUNT(r.rental_id) AS No_of_times_rented, \n",
    "       f.rating AS Ratings\n",
    "FROM film F\n",
    "JOIN inventory i\n",
    "ON f.film_id = i.film_id\n",
    "JOIN rental r\n",
    "ON r.inventory_id = i.inventory_id\n",
    "WHERE f.rating = 'PG'\n",
    "GROUP BY f.title, f.rating"
   ]
  },
  {
   "cell_type": "markdown",
   "id": "015c7f00-d94a-435d-b62f-1b726b2025b5",
   "metadata": {},
   "source": [
    "Question 11. What movies are offered for rent in any store_id 1 and not offered in store_id 2?"
   ]
  },
  {
   "cell_type": "code",
   "execution_count": null,
   "id": "0f2ead68-6062-4503-8378-b3869582d057",
   "metadata": {},
   "outputs": [],
   "source": [
    "SELECT f.title AS movie_title, \n",
    "       COUNT(r.rental_id) AS No_of_times_rented, \n",
    "       s.store_id AS Store_id\n",
    "FROM film F\n",
    "JOIN inventory i\n",
    "ON f.film_id = i.film_id\n",
    "JOIN rental r\n",
    "ON r.inventory_id = i.inventory_id\n",
    "JOIN store s\n",
    "ON i.store_id = s.store_id\n",
    "WHERE s.store_id = 1"
   ]
  },
  {
   "cell_type": "markdown",
   "id": "8f7e432e-47ea-41d8-959d-e0f0f493283e",
   "metadata": {},
   "source": [
    "Question 12. What movies are offered for rent in any of the two stores 1 and 2?"
   ]
  },
  {
   "cell_type": "code",
   "execution_count": null,
   "id": "2db373e0-b2f0-4bc2-b3c4-245d75e9d802",
   "metadata": {},
   "outputs": [],
   "source": [
    "SELECT f.title AS movie_title, \n",
    "       COUNT(r.rental_id) AS No_of_times_rented, \n",
    "       s.store_id AS Store_id\n",
    "FROM film F\n",
    "JOIN inventory i\n",
    "ON f.film_id = i.film_id\n",
    "JOIN rental r\n",
    "ON r.inventory_id = i.inventory_id\n",
    "JOIN store s\n",
    "ON i.store_id = s.store_id"
   ]
  },
  {
   "cell_type": "code",
   "execution_count": null,
   "id": "c9125461-569a-470b-b9ad-5cb570084b53",
   "metadata": {},
   "outputs": [],
   "source": [
    "Question 13. What movies are offered in both stores at the same time?"
   ]
  },
  {
   "cell_type": "code",
   "execution_count": null,
   "id": "7db3730a-8ed2-4ca9-acda-5b98883b184b",
   "metadata": {},
   "outputs": [],
   "source": [
    "SELECT title, \n",
    "       film_id\n",
    "FROM film\n",
    "WHERE film_id in (SELECT film_id\n",
    "\t              FROM inventory i\n",
    "\t              WHERE store_id = 1) \n",
    "AND film_id in (SELECT film_id\n",
    "\t              FROM inventory i\n",
    "\t              WHERE store_id = 2)"
   ]
  },
  {
   "cell_type": "markdown",
   "id": "6c27da14-49e1-4b4a-af19-f4deae8122a1",
   "metadata": {},
   "source": [
    "Question 14. Display the movie title for the most rented movie in the store with store_id 1."
   ]
  },
  {
   "cell_type": "code",
   "execution_count": null,
   "id": "8b775428-6101-4e26-a9e0-d076b7e284b0",
   "metadata": {},
   "outputs": [],
   "source": [
    "SELECT f.title AS movie_title, f.rental_duration\n",
    "FROM film f\n",
    "GROUP BY f.rental_duration, f.title, film_id\n",
    "HAVING film_id IN (SELECT f.film_id\n",
    "\t            FROM inventory i\n",
    "\t            WHERE i.store_id = 1)\n",
    "ORDER BY f.rental_duration DESC"
   ]
  },
  {
   "cell_type": "markdown",
   "id": "4ed71dea-ab24-4091-a757-8ad5b96ec264",
   "metadata": {},
   "source": [
    "Question 15. How many movies are not offered for rent in the stores yet?"
   ]
  },
  {
   "cell_type": "code",
   "execution_count": null,
   "id": "80a0ac1d-3d04-4373-bd0e-bd5b26b2ff17",
   "metadata": {},
   "outputs": [],
   "source": [
    "SELECT f.title AS movie_title,\n",
    "       COUNT(r.rental_id) AS No_of_times_rented,\n",
    "       s.store_id AS Store_id\n",
    "FROM film F\n",
    "JOIN inventory i\n",
    "ON f.film_id = i.film_id\n",
    "JOIN rental r\n",
    "ON r.inventory_id = i.inventory_id\n",
    "JOIN store s\n",
    "ON i.store_id = s.store_id\n",
    "WHERE r.rental_id IS NULL"
   ]
  },
  {
   "cell_type": "markdown",
   "id": "16ed5a09-a2b2-4cb0-bb44-00717c762da4",
   "metadata": {},
   "source": [
    "Question 16. How many rented movies are under each rating?"
   ]
  },
  {
   "cell_type": "code",
   "execution_count": null,
   "id": "1ca68b44-479c-49c5-b6f6-21abe95499cb",
   "metadata": {},
   "outputs": [],
   "source": [
    "SELECT f.rating AS Ratings,\n",
    "       COUNT(r.rental_id) AS No_of_times_rented\n",
    "FROM film F\n",
    "JOIN inventory i\n",
    "ON f.film_id = i.film_id\n",
    "JOIN rental r\n",
    "ON r.inventory_id = i.inventory_id\n",
    "GROUP BY f.rating"
   ]
  },
  {
   "cell_type": "markdown",
   "id": "2bce74bc-1908-4f09-af30-f1389adc19b4",
   "metadata": {},
   "source": [
    "Question 17. How much profit have each of the stores 1 and 2 gained?"
   ]
  },
  {
   "cell_type": "code",
   "execution_count": null,
   "id": "83714307-a2c4-4948-b188-1eef51470d4d",
   "metadata": {},
   "outputs": [],
   "source": [
    "SELECT SUM(p.amount) AS Profits,\n",
    "       s.store_id AS Store_id\n",
    "FROM payment P\n",
    "JOIN staff t\n",
    "ON p.staff_id = t.staff_id\n",
    "JOIN store s\n",
    "ON s.store_id = t.store_id\n",
    "GROUP BY s.store_id"
   ]
  }
 ],
 "metadata": {
  "kernelspec": {
   "display_name": "Python 3 (ipykernel)",
   "language": "python",
   "name": "python3"
  },
  "language_info": {
   "codemirror_mode": {
    "name": "ipython",
    "version": 3
   },
   "file_extension": ".py",
   "mimetype": "text/x-python",
   "name": "python",
   "nbconvert_exporter": "python",
   "pygments_lexer": "ipython3",
   "version": "3.9.18"
  }
 },
 "nbformat": 4,
 "nbformat_minor": 5
}
